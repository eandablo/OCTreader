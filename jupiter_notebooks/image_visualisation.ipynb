{
 "cells": [
  {
   "cell_type": "markdown",
   "metadata": {},
   "source": [
    "# Data Visualisation\n",
    "\n",
    "## Objectives\n",
    "\n",
    "Providing the client the required visual aid to understand the differences in images for the different labels: Normal, CNV, DME, DRUNSEN, which represent different conditions. This will satisfy bussiness requirement 1.\n",
    "\n",
    "## Inputs\n",
    "\n",
    "The notebook requires images divided in the following folders:\n",
    "\n",
    "1. inputs/OCTdata/train\n",
    "2. inputs/OCTdata/val\n",
    "3. inputs/OCTdata/test\n",
    "\n",
    "## Outputs\n",
    "\n",
    "1. Image shape embeddings pickle file.\n",
    "2. Mean and variability of images per label plot.\n",
    "3. Plot to distinguish the contrast between parasite-contained and uninfected cell images.\n",
    "4. Generate code that answers business requirement 1 and can be used to build an image montage on the Streamlit dashboard."
   ]
  },
  {
   "cell_type": "markdown",
   "metadata": {},
   "source": [
    "---"
   ]
  },
  {
   "cell_type": "markdown",
   "metadata": {},
   "source": [
    "## Set Directory\n",
    "\n",
    "### Import libraries"
   ]
  },
  {
   "cell_type": "code",
   "execution_count": 1,
   "metadata": {},
   "outputs": [],
   "source": [
    "import os\n",
    "import pandas as pd\n",
    "import numpy as np\n",
    "import matplotlib.pyplot as plt\n",
    "import seaborn as sns\n",
    "import joblib\n",
    "from matplotlib.image import imread"
   ]
  },
  {
   "cell_type": "code",
   "execution_count": null,
   "metadata": {},
   "outputs": [],
   "source": []
  }
 ],
 "metadata": {
  "kernelspec": {
   "display_name": "Python 3",
   "language": "python",
   "name": "python3"
  },
  "language_info": {
   "codemirror_mode": {
    "name": "ipython",
    "version": 3
   },
   "file_extension": ".py",
   "mimetype": "text/x-python",
   "name": "python",
   "nbconvert_exporter": "python",
   "pygments_lexer": "ipython3",
   "version": "3.8.12"
  }
 },
 "nbformat": 4,
 "nbformat_minor": 2
}
