{
 "cells": [
  {
   "cell_type": "markdown",
   "metadata": {},
   "source": [
    "# Modelling and Evaluation Notebook\n",
    "\n",
    "## Objectives\n",
    "\n",
    "Create a model to analyse OCT images to evaluate the condition of macula distingishing between 4 conditions: Normal, CNV, DNV, DRUSEN. This answers business requirement 2.\n",
    "\n",
    "## Inputs\n",
    "\n",
    "Data is divided in three folders: train, val, test with following paths:\n",
    "\n",
    "1. inputs/OCTdata/train\n",
    "2. inputs/OCTdata/val\n",
    "3. inputs/OCTdata/test\n",
    "\n",
    "Additionally, a pkl file with image shaping obtained in the image_visualisation notebook.\n",
    "\n",
    "## Outputs\n",
    "\n",
    "1. Images distribution plot in train, validation, and test set.\n",
    "2. Image augmentation.\n",
    "3. Class indices to change prediction inference in labels.\n",
    "4. Machine learning model creation and training.\n",
    "5. Save model.\n",
    "6. Learning curve plot for model performance.\n",
    "7. Model evaluation on pickle file.\n",
    "8. Prediction on the random image file.\n",
    "\n",
    "\n"
   ]
  },
  {
   "cell_type": "markdown",
   "metadata": {},
   "source": [
    "# Import packages"
   ]
  },
  {
   "cell_type": "code",
   "execution_count": 1,
   "metadata": {},
   "outputs": [],
   "source": [
    "import os\n",
    "import pandas as pd\n",
    "import numpy as np\n",
    "import matplotlib.pyplot as plt\n",
    "import seaborn as sns\n",
    "from matplotlib.image import imread"
   ]
  },
  {
   "cell_type": "markdown",
   "metadata": {},
   "source": [
    "## Set Working Directory"
   ]
  },
  {
   "cell_type": "markdown",
   "metadata": {},
   "source": [
    "Finding the curent working directory"
   ]
  },
  {
   "cell_type": "code",
   "execution_count": 2,
   "metadata": {},
   "outputs": [
    {
     "data": {
      "text/plain": [
       "'/workspace/OCTreader/jupiter_notebooks'"
      ]
     },
     "execution_count": 2,
     "metadata": {},
     "output_type": "execute_result"
    }
   ],
   "source": [
    "working_dir = os.getcwd()\n",
    "working_dir"
   ]
  },
  {
   "cell_type": "markdown",
   "metadata": {},
   "source": [
    "Moving it to the workspace directory"
   ]
  },
  {
   "cell_type": "code",
   "execution_count": 3,
   "metadata": {},
   "outputs": [
    {
     "data": {
      "text/plain": [
       "'/workspace/OCTreader'"
      ]
     },
     "execution_count": 3,
     "metadata": {},
     "output_type": "execute_result"
    }
   ],
   "source": [
    "os.chdir('/workspace/OCTreader')\n",
    "working_dir = os.getcwd()\n",
    "working_dir"
   ]
  },
  {
   "cell_type": "markdown",
   "metadata": {},
   "source": [
    "Now we define paths for the train, val, test folders"
   ]
  },
  {
   "cell_type": "code",
   "execution_count": 4,
   "metadata": {},
   "outputs": [
    {
     "ename": "FileNotFoundError",
     "evalue": "[Errno 2] No such file or directory: 'inputs/OCTdata'",
     "output_type": "error",
     "traceback": [
      "\u001b[0;31m---------------------------------------------------------------------------\u001b[0m",
      "\u001b[0;31mFileNotFoundError\u001b[0m                         Traceback (most recent call last)",
      "\u001b[1;32m/workspace/OCTreader/jupiter_notebooks/modelling_and_evaluating.ipynb Cell 9\u001b[0m line \u001b[0;36m1\n\u001b[0;32m----> <a href='vscode-notebook-cell://eandablo-octreader-cq8njxed9ri.ws-eu108.gitpod.io/workspace/OCTreader/jupiter_notebooks/modelling_and_evaluating.ipynb#X21sdnNjb2RlLXJlbW90ZQ%3D%3D?line=0'>1</a>\u001b[0m split_dirs \u001b[39m=\u001b[39m os\u001b[39m.\u001b[39;49mlistdir(\u001b[39m'\u001b[39;49m\u001b[39minputs/OCTdata\u001b[39;49m\u001b[39m'\u001b[39;49m)\n\u001b[1;32m      <a href='vscode-notebook-cell://eandablo-octreader-cq8njxed9ri.ws-eu108.gitpod.io/workspace/OCTreader/jupiter_notebooks/modelling_and_evaluating.ipynb#X21sdnNjb2RlLXJlbW90ZQ%3D%3D?line=1'>2</a>\u001b[0m split_paths \u001b[39m=\u001b[39m {\n\u001b[1;32m      <a href='vscode-notebook-cell://eandablo-octreader-cq8njxed9ri.ws-eu108.gitpod.io/workspace/OCTreader/jupiter_notebooks/modelling_and_evaluating.ipynb#X21sdnNjb2RlLXJlbW90ZQ%3D%3D?line=2'>3</a>\u001b[0m     split_dirs[\u001b[39m0\u001b[39m]: \u001b[39m'\u001b[39m\u001b[39minputs/OCTdata/\u001b[39m\u001b[39m'\u001b[39m \u001b[39m+\u001b[39m split_dirs[\u001b[39m0\u001b[39m],\n\u001b[1;32m      <a href='vscode-notebook-cell://eandablo-octreader-cq8njxed9ri.ws-eu108.gitpod.io/workspace/OCTreader/jupiter_notebooks/modelling_and_evaluating.ipynb#X21sdnNjb2RlLXJlbW90ZQ%3D%3D?line=3'>4</a>\u001b[0m     split_dirs[\u001b[39m1\u001b[39m]: \u001b[39m'\u001b[39m\u001b[39minputs/OCTdata/\u001b[39m\u001b[39m'\u001b[39m \u001b[39m+\u001b[39m split_dirs[\u001b[39m1\u001b[39m],\n\u001b[1;32m      <a href='vscode-notebook-cell://eandablo-octreader-cq8njxed9ri.ws-eu108.gitpod.io/workspace/OCTreader/jupiter_notebooks/modelling_and_evaluating.ipynb#X21sdnNjb2RlLXJlbW90ZQ%3D%3D?line=4'>5</a>\u001b[0m     split_dirs[\u001b[39m2\u001b[39m]: \u001b[39m'\u001b[39m\u001b[39minputs/OCTdata/\u001b[39m\u001b[39m'\u001b[39m \u001b[39m+\u001b[39m split_dirs[\u001b[39m2\u001b[39m]\n\u001b[1;32m      <a href='vscode-notebook-cell://eandablo-octreader-cq8njxed9ri.ws-eu108.gitpod.io/workspace/OCTreader/jupiter_notebooks/modelling_and_evaluating.ipynb#X21sdnNjb2RlLXJlbW90ZQ%3D%3D?line=5'>6</a>\u001b[0m }\n\u001b[1;32m      <a href='vscode-notebook-cell://eandablo-octreader-cq8njxed9ri.ws-eu108.gitpod.io/workspace/OCTreader/jupiter_notebooks/modelling_and_evaluating.ipynb#X21sdnNjb2RlLXJlbW90ZQ%3D%3D?line=6'>7</a>\u001b[0m labels \u001b[39m=\u001b[39m os\u001b[39m.\u001b[39mlistdir(split_paths[split_dirs[\u001b[39m0\u001b[39m]])\n",
      "\u001b[0;31mFileNotFoundError\u001b[0m: [Errno 2] No such file or directory: 'inputs/OCTdata'"
     ]
    }
   ],
   "source": [
    "split_dirs = os.listdir('inputs/OCTdata')\n",
    "split_paths = {\n",
    "    split_dirs[0]: 'inputs/OCTdata/' + split_dirs[0],\n",
    "    split_dirs[1]: 'inputs/OCTdata/' + split_dirs[1],\n",
    "    split_dirs[2]: 'inputs/OCTdata/' + split_dirs[2]\n",
    "}\n",
    "labels = os.listdir(split_paths[split_dirs[0]])"
   ]
  },
  {
   "cell_type": "code",
   "execution_count": null,
   "metadata": {},
   "outputs": [],
   "source": []
  }
 ],
 "metadata": {
  "kernelspec": {
   "display_name": "Python 3",
   "language": "python",
   "name": "python3"
  },
  "language_info": {
   "codemirror_mode": {
    "name": "ipython",
    "version": 3
   },
   "file_extension": ".py",
   "mimetype": "text/x-python",
   "name": "python",
   "nbconvert_exporter": "python",
   "pygments_lexer": "ipython3",
   "version": "3.8.12"
  }
 },
 "nbformat": 4,
 "nbformat_minor": 2
}
