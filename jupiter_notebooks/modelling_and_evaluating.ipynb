{
 "cells": [
  {
   "cell_type": "markdown",
   "metadata": {},
   "source": [
    "# Modelling and Evaluation Notebook\n",
    "\n",
    "## Objectives\n",
    "\n",
    "Create a model to analyse OCT images to evaluate the condition of macula distingishing between 4 conditions: Normal, CNV, DNV, DRUSEN. This answers business requirement 2.\n",
    "\n",
    "## Inputs\n",
    "\n",
    "Data is divided in three folders: train, val, test with following paths:\n",
    "\n",
    "1. inputs/OCTdata/train\n",
    "2. inputs/OCTdata/val\n",
    "3. inputs/OCTdata/test\n",
    "\n",
    "Additionally, a pkl file with image shaping obtained in the image_visualisation notebook.\n",
    "\n",
    "## Outputs\n",
    "\n",
    "1. Images distribution plot in train, validation, and test set.\n",
    "2. Image augmentation.\n",
    "3. Class indices to change prediction inference in labels.\n",
    "4. Machine learning model creation and training.\n",
    "5. Save model.\n",
    "6. Learning curve plot for model performance.\n",
    "7. Model evaluation on pickle file.\n",
    "8. Prediction on the random image file.\n",
    "\n",
    "\n"
   ]
  },
  {
   "cell_type": "markdown",
   "metadata": {},
   "source": [
    "# Import packages"
   ]
  },
  {
   "cell_type": "code",
   "execution_count": 1,
   "metadata": {},
   "outputs": [],
   "source": [
    "import os\n",
    "import pandas as pd\n",
    "import numpy as np\n",
    "import matplotlib.pyplot as plt\n",
    "import seaborn as sns\n",
    "from matplotlib.image import imread"
   ]
  },
  {
   "cell_type": "markdown",
   "metadata": {},
   "source": [
    "## Set Working Directory"
   ]
  },
  {
   "cell_type": "markdown",
   "metadata": {},
   "source": [
    "Finding the curent working directory"
   ]
  },
  {
   "cell_type": "code",
   "execution_count": 2,
   "metadata": {},
   "outputs": [
    {
     "data": {
      "text/plain": [
       "'/workspace/OCTreader/jupiter_notebooks'"
      ]
     },
     "execution_count": 2,
     "metadata": {},
     "output_type": "execute_result"
    }
   ],
   "source": [
    "working_dir = os.getcwd()\n",
    "working_dir"
   ]
  },
  {
   "cell_type": "markdown",
   "metadata": {},
   "source": [
    "Moving it to the workspace directory"
   ]
  },
  {
   "cell_type": "code",
   "execution_count": 3,
   "metadata": {},
   "outputs": [
    {
     "data": {
      "text/plain": [
       "'/workspace/OCTreader'"
      ]
     },
     "execution_count": 3,
     "metadata": {},
     "output_type": "execute_result"
    }
   ],
   "source": [
    "os.chdir('/workspace/OCTreader')\n",
    "working_dir = os.getcwd()\n",
    "working_dir"
   ]
  },
  {
   "cell_type": "markdown",
   "metadata": {},
   "source": [
    "Now we define paths for the train, val, test folders"
   ]
  },
  {
   "cell_type": "code",
   "execution_count": 4,
   "metadata": {},
   "outputs": [],
   "source": [
    "split_dirs = os.listdir('inputs/OCTdata')\n",
    "split_paths = {\n",
    "    split_dirs[0]: 'inputs/OCTdata/' + split_dirs[0],\n",
    "    split_dirs[1]: 'inputs/OCTdata/' + split_dirs[1],\n",
    "    split_dirs[2]: 'inputs/OCTdata/' + split_dirs[2]\n",
    "}\n",
    "labels = os.listdir(split_paths[split_dirs[0]])"
   ]
  },
  {
   "cell_type": "markdown",
   "metadata": {},
   "source": [
    "## Data availability"
   ]
  },
  {
   "cell_type": "code",
   "execution_count": 16,
   "metadata": {},
   "outputs": [
    {
     "data": {
      "image/png": "[encoded data removed]",
      "text/plain": [
       "<Figure size 640x480 with 1 Axes>"
      ]
     },
     "metadata": {},
     "output_type": "display_data"
    }
   ],
   "source": [
    "def data_availability_per_label(split_dir):\n",
    "    '''\n",
    "    Exploring the either train, val or test directoties\n",
    "    counts the number of files per label\n",
    "\n",
    "    '''\n",
    "    df = pd.DataFrame(columns=['split_dir', 'label', 'count'])\n",
    "    for label in labels:\n",
    "        image_labels = os.listdir(split_paths[split_dir] + '/' + label)\n",
    "        count = 0\n",
    "        for image_name in image_labels:\n",
    "            count += 1\n",
    "        df = df.append({'label': label, 'count': count},\n",
    "                       ignore_index=True)\n",
    "    ax = sns.barplot(data=df, x='label', y='count')\n",
    "    ax.set(xlabel='Label', ylabel='Image count')\n",
    "    plt.show()\n",
    "\n",
    "\n",
    "data_availability_per_label('train')"
   ]
  },
  {
   "cell_type": "code",
   "execution_count": null,
   "metadata": {},
   "outputs": [],
   "source": []
  }
 ],
 "metadata": {
  "kernelspec": {
   "display_name": "Python 3",
   "language": "python",
   "name": "python3"
  },
  "language_info": {
   "codemirror_mode": {
    "name": "ipython",
    "version": 3
   },
   "file_extension": ".py",
   "mimetype": "text/x-python",
   "name": "python",
   "nbconvert_exporter": "python",
   "pygments_lexer": "ipython3",
   "version": "3.8.12"
  }
 },
 "nbformat": 4,
 "nbformat_minor": 2
}
