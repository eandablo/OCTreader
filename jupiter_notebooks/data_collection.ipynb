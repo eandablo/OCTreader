{
 "cells": [
  {
   "cell_type": "markdown",
   "metadata": {},
   "source": [
    "# Data Collection\n",
    "\n",
    "## Objectives\n",
    "\n",
    "1. Fetch data from kaggle.\n",
    "2. Prepare data for model training.\n",
    "\n",
    "## Inputs\n",
    "\n",
    "1. Authentication Kaggle JSON file\n",
    "\n",
    "## Outputs\n",
    "\n",
    "1. Image only datasets\n",
    "\n",
    "## Comments\n",
    "\n",
    "Kaggle dataset is already divided in train, validate and test folder. It is important to calculate ratios and redistribute if needed.\n",
    "\n",
    "---"
   ]
  },
  {
   "cell_type": "markdown",
   "metadata": {},
   "source": [
    "## Import packages"
   ]
  },
  {
   "cell_type": "markdown",
   "metadata": {},
   "source": []
  },
  {
   "cell_type": "code",
   "execution_count": 1,
   "metadata": {},
   "outputs": [],
   "source": [
    "import numpy\n",
    "import os"
   ]
  },
  {
   "cell_type": "markdown",
   "metadata": {},
   "source": [
    "## Set working directory"
   ]
  },
  {
   "cell_type": "code",
   "execution_count": 2,
   "metadata": {},
   "outputs": [
    {
     "name": "stdout",
     "output_type": "stream",
     "text": [
      "/workspace/OCTreader/jupiter_notebooks\n"
     ]
    }
   ],
   "source": [
    "print(os.getcwd())"
   ]
  },
  {
   "cell_type": "code",
   "execution_count": 3,
   "metadata": {},
   "outputs": [
    {
     "name": "stdout",
     "output_type": "stream",
     "text": [
      "New working directory: /workspace/OCTreader\n"
     ]
    }
   ],
   "source": [
    "os.chdir('/workspace/OCTreader')\n",
    "print(f'New working directory: {os.getcwd()}')"
   ]
  },
  {
   "cell_type": "markdown",
   "metadata": {},
   "source": [
    "## Installing Kaggle"
   ]
  },
  {
   "cell_type": "code",
   "execution_count": 4,
   "metadata": {},
   "outputs": [
    {
     "name": "stdout",
     "output_type": "stream",
     "text": [
      "Collecting kaggle==1.5.12\n",
      "  Downloading kaggle-1.5.12.tar.gz (58 kB)\n",
      "\u001b[K     |████████████████████████████████| 58 kB 4.1 MB/s eta 0:00:011\n",
      "\u001b[?25hRequirement already satisfied: six>=1.10 in /workspace/.pyenv_mirror/user/3.8.12/lib/python3.8/site-packages (from kaggle==1.5.12) (1.16.0)\n",
      "Requirement already satisfied: certifi in /workspace/.pyenv_mirror/user/3.8.12/lib/python3.8/site-packages (from kaggle==1.5.12) (2024.2.2)\n",
      "Requirement already satisfied: python-dateutil in /workspace/.pyenv_mirror/user/3.8.12/lib/python3.8/site-packages (from kaggle==1.5.12) (2.9.0.post0)\n",
      "Requirement already satisfied: requests in /workspace/.pyenv_mirror/user/3.8.12/lib/python3.8/site-packages (from kaggle==1.5.12) (2.31.0)\n",
      "Collecting tqdm\n",
      "  Downloading tqdm-4.66.2-py3-none-any.whl (78 kB)\n",
      "\u001b[K     |████████████████████████████████| 78 kB 6.9 MB/s eta 0:00:011\n",
      "\u001b[?25hCollecting python-slugify\n",
      "  Downloading python_slugify-8.0.4-py2.py3-none-any.whl (10 kB)\n",
      "Requirement already satisfied: urllib3 in /workspace/.pyenv_mirror/user/3.8.12/lib/python3.8/site-packages (from kaggle==1.5.12) (2.2.1)\n",
      "Collecting text-unidecode>=1.3\n",
      "  Downloading text_unidecode-1.3-py2.py3-none-any.whl (78 kB)\n",
      "\u001b[K     |████████████████████████████████| 78 kB 8.2 MB/s  eta 0:00:01\n",
      "\u001b[?25hRequirement already satisfied: idna<4,>=2.5 in /workspace/.pyenv_mirror/user/3.8.12/lib/python3.8/site-packages (from requests->kaggle==1.5.12) (3.6)\n",
      "Requirement already satisfied: charset-normalizer<4,>=2 in /workspace/.pyenv_mirror/user/3.8.12/lib/python3.8/site-packages (from requests->kaggle==1.5.12) (3.3.2)\n",
      "Building wheels for collected packages: kaggle\n",
      "  Building wheel for kaggle (setup.py) ... \u001b[?25ldone\n",
      "\u001b[?25h  Created wheel for kaggle: filename=kaggle-1.5.12-py3-none-any.whl size=73049 sha256=5981a4a0f5e27ee82ac597c0a3fc1865246b2bfd7f1ddeec5d3a12a328167985\n",
      "  Stored in directory: /workspace/.pyenv_mirror/pip_cache/wheels/29/da/11/144cc25aebdaeb4931b231e25fd34b394e6a5725cbb2f50106\n",
      "Successfully built kaggle\n",
      "Installing collected packages: text-unidecode, tqdm, python-slugify, kaggle\n",
      "Successfully installed kaggle-1.5.12 python-slugify-8.0.4 text-unidecode-1.3 tqdm-4.66.2\n",
      "\u001b[33mWARNING: You are using pip version 21.1.1; however, version 24.0 is available.\n",
      "You should consider upgrading via the '/home/gitpod/.pyenv/versions/3.8.12/bin/python -m pip install --upgrade pip' command.\u001b[0m\n",
      "Note: you may need to restart the kernel to use updated packages.\n"
     ]
    }
   ],
   "source": [
    "# install kaggle==1.5.12 package\n",
    "%pip install kaggle==1.5.12"
   ]
  },
  {
   "cell_type": "markdown",
   "metadata": {},
   "source": [
    "## Configuring working directory and authentication for Kaggle"
   ]
  },
  {
   "cell_type": "code",
   "execution_count": 5,
   "metadata": {},
   "outputs": [],
   "source": [
    "os.environ['KAGGLE_CONFIG_DIR'] = os.getcwd()\n",
    "! chmod 600 kaggle.json"
   ]
  },
  {
   "cell_type": "markdown",
   "metadata": {},
   "source": [
    "## Fetch data from Kaggle"
   ]
  },
  {
   "cell_type": "code",
   "execution_count": 33,
   "metadata": {},
   "outputs": [
    {
     "name": "stdout",
     "output_type": "stream",
     "text": [
      "Downloading kermany2018.zip to inputs/OCTdata\n",
      "100%|█████████████████████████████████████▉| 10.8G/10.8G [05:12<00:00, 35.6MB/s]\n",
      "100%|██████████████████████████████████████| 10.8G/10.8G [05:12<00:00, 37.3MB/s]\n"
     ]
    }
   ],
   "source": [
    "# Variables containing kaggle data path and local directory to host input data\n",
    "data_path = 'paultimothymooney/kermany2018/data'\n",
    "destination_folder = 'inputs/OCTdata'\n",
    "! kaggle datasets download -d {data_path} -p {destination_folder}"
   ]
  },
  {
   "cell_type": "code",
   "execution_count": 34,
   "metadata": {},
   "outputs": [],
   "source": [
    "import zipfile\n",
    "\n",
    "# Find the zip file with kaggle data\n",
    "zip_kaggle_dataset = os.listdir(destination_folder)\n",
    "\n",
    "with zipfile.ZipFile(destination_folder + '/' + zip_kaggle_dataset[0], 'r') as zip_ref:\n",
    "    zip_ref.extractall(destination_folder)\n",
    "\n",
    "os.remove(destination_folder + '/' + zip_kaggle_dataset[0])"
   ]
  },
  {
   "cell_type": "markdown",
   "metadata": {},
   "source": [
    "## Remove redundant data"
   ]
  },
  {
   "cell_type": "markdown",
   "metadata": {},
   "source": [
    "There are two folders with the same data, we will eliminate one."
   ]
  },
  {
   "cell_type": "code",
   "execution_count": 35,
   "metadata": {},
   "outputs": [
    {
     "data": {
      "text/plain": [
       "['OCT2017 ', 'oct2017']"
      ]
     },
     "execution_count": 35,
     "metadata": {},
     "output_type": "execute_result"
    }
   ],
   "source": [
    "# Listing existing folders\n",
    "data_folders = os.listdir(destination_folder)\n",
    "data_folders"
   ]
  },
  {
   "cell_type": "code",
   "execution_count": 36,
   "metadata": {},
   "outputs": [],
   "source": [
    "import shutil\n",
    "\n",
    "# We will keep this folder\n",
    "keeping_dir = 'OCT2017 '\n",
    "\n",
    "for current_dir in os.listdir('inputs/OCTdata'):\n",
    "    if current_dir != keeping_dir:\n",
    "        shutil.rmtree('inputs/OCTdata/' + current_dir)\n"
   ]
  },
  {
   "cell_type": "markdown",
   "metadata": {},
   "source": [
    "There is a trailing space in the data folder that is best to remove."
   ]
  },
  {
   "cell_type": "code",
   "execution_count": 37,
   "metadata": {},
   "outputs": [],
   "source": [
    "data_folders = os.listdir(destination_folder)\n",
    "\n",
    "# Removing trainling space if found in folder's name\n",
    "if  data_folders[0][-1] == ' ':\n",
    "    os.rename(destination_folder + '/' + data_folders[0],\n",
    "              destination_folder + '/' + data_folders[0][0: -1])"
   ]
  },
  {
   "cell_type": "markdown",
   "metadata": {},
   "source": [
    "We check if the trailing space has been removed"
   ]
  },
  {
   "cell_type": "code",
   "execution_count": 38,
   "metadata": {},
   "outputs": [
    {
     "data": {
      "text/plain": [
       "'OCT2017'"
      ]
     },
     "execution_count": 38,
     "metadata": {},
     "output_type": "execute_result"
    }
   ],
   "source": [
    "data_folders = os.listdir(destination_folder)\n",
    "data_folders[0]"
   ]
  },
  {
   "cell_type": "markdown",
   "metadata": {},
   "source": [
    "# Data Cleaning and Split\n",
    "\n",
    "Data is now divided in three folders: train, val and test. Each of these folders contains four folders for the different labels. In this step non-images files are removed and ratios of train, val and test are calculated."
   ]
  },
  {
   "cell_type": "code",
   "execution_count": 39,
   "metadata": {},
   "outputs": [],
   "source": [
    "import pandas as pd\n",
    "import seaborn as sns\n",
    "import matplotlib.pyplot as plt\n",
    "\n",
    "\n",
    "def remove_non_images(data_dir):\n",
    "    '''\n",
    "    The function checks data_dir and removes\n",
    "    any files without image extension\n",
    "    and counts image files in folder\n",
    "    '''\n",
    "    image_extensions = ['jpeg', 'png', 'gif']\n",
    "    image_count = 0\n",
    "    for image_file in os.listdir(data_dir):\n",
    "        if image_file.split('.')[1] in image_extensions:\n",
    "            image_count += 1\n",
    "        else:\n",
    "            os.remove(data_dir + image_file)\n",
    "\n",
    "    return image_count\n",
    "\n",
    "\n",
    "def explore_directories(root_dir):\n",
    "    '''\n",
    "    Sweeps all directories calling the non_image removing function\n",
    "    counts the total of images per folder and makes a summary on df    \n",
    "    '''\n",
    "    # empty dataframe\n",
    "    df = pd.DataFrame(columns=['purpose', 'label', 'count'])\n",
    "    labels = ['CNV', 'DME', 'DRUSEN', 'NORMAL']\n",
    "    split_dirs = ['train', 'val', 'test']\n",
    "    for split_dir in split_dirs:\n",
    "        for label in labels:\n",
    "            data_dir = root_dir + split_dir + '/' + label\n",
    "            # count per label\n",
    "            count = remove_non_images(data_dir)\n",
    "            # add record of count per directory\n",
    "            df = df.append({'purpose': split_dir, 'label': label, 'count': count}, ignore_index = True)\n",
    "\n",
    "    # create a log plot to observe distribution of images\n",
    "    sns.barplot(data=df, x='label', y='count', hue='purpose')\n",
    "    plt.yscale('log')\n",
    "    plt.show()\n",
    "    print('Viasualisation of images distribution across folders')\n",
    "    df_summary = (df.groupby(by=['purpose',]).sum().drop('label', axis=1))\n",
    "    print('Summary of images distribution across folders')\n",
    "    df_summary['ratios'] = df_summary['count']/df_summary['count'].sum()\n",
    "    print(df_summary)\n",
    "    return df_summary.drop('count', axis=1)\n",
    "\n"
   ]
  },
  {
   "cell_type": "markdown",
   "metadata": {},
   "source": [
    "Expected ratios are train = 0.7, val = 0.1 and test = 0.2. If this condition is not met, the files need to be redistributed."
   ]
  },
  {
   "cell_type": "code",
   "execution_count": 41,
   "metadata": {},
   "outputs": [
    {
     "data": {
      "image/png": "[encoded data removed]",
      "text/plain": [
       "<Figure size 640x480 with 1 Axes>"
      ]
     },
     "metadata": {},
     "output_type": "display_data"
    },
    {
     "name": "stdout",
     "output_type": "stream",
     "text": [
      "Viasualisation of images distribution across folders\n",
      "Summary of images distribution across folders\n",
      "         count    ratios\n",
      "purpose                 \n",
      "test       968  0.011458\n",
      "train    83484  0.988163\n",
      "val         32  0.000379\n",
      "['CNV', 'DME', 'DRUSEN', 'NORMAL']\n"
     ]
    },
    {
     "ename": "FileNotFoundError",
     "evalue": "[Errno 2] No such file or directory: 'inputs/OCTdata/temp/CNV'",
     "output_type": "error",
     "traceback": [
      "\u001b[0;31m---------------------------------------------------------------------------\u001b[0m",
      "\u001b[0;31mFileNotFoundError\u001b[0m                         Traceback (most recent call last)",
      "\u001b[1;32m/workspace/OCTreader/jupiter_notebooks/data_collection.ipynb Cell 26\u001b[0m line \u001b[0;36m1\n\u001b[1;32m    <a href='vscode-notebook-cell://eandablo-octreader-buih60wkkqd.ws-eu108.gitpod.io/workspace/OCTreader/jupiter_notebooks/data_collection.ipynb#X34sdnNjb2RlLXJlbW90ZQ%3D%3D?line=113'>114</a>\u001b[0m         \u001b[39mprint\u001b[39m(\u001b[39m'\u001b[39m\u001b[39mplease recall the function with the right ratios\u001b[39m\u001b[39m'\u001b[39m)\n\u001b[1;32m    <a href='vscode-notebook-cell://eandablo-octreader-buih60wkkqd.ws-eu108.gitpod.io/workspace/OCTreader/jupiter_notebooks/data_collection.ipynb#X34sdnNjb2RlLXJlbW90ZQ%3D%3D?line=114'>115</a>\u001b[0m     \u001b[39m# shutil.rmtree('inputs/OCTdata/OCT2017')\u001b[39;00m\n\u001b[0;32m--> <a href='vscode-notebook-cell://eandablo-octreader-buih60wkkqd.ws-eu108.gitpod.io/workspace/OCTreader/jupiter_notebooks/data_collection.ipynb#X34sdnNjb2RlLXJlbW90ZQ%3D%3D?line=117'>118</a>\u001b[0m split_data(train_ratio\u001b[39m=\u001b[39;49m\u001b[39m0.7\u001b[39;49m, val_ratio\u001b[39m=\u001b[39;49m\u001b[39m0.1\u001b[39;49m, test_ratio\u001b[39m=\u001b[39;49m\u001b[39m0.2\u001b[39;49m)\n",
      "\u001b[1;32m/workspace/OCTreader/jupiter_notebooks/data_collection.ipynb Cell 26\u001b[0m line \u001b[0;36m1\n\u001b[1;32m    <a href='vscode-notebook-cell://eandablo-octreader-buih60wkkqd.ws-eu108.gitpod.io/workspace/OCTreader/jupiter_notebooks/data_collection.ipynb#X34sdnNjb2RlLXJlbW90ZQ%3D%3D?line=106'>107</a>\u001b[0m     \u001b[39melse\u001b[39;00m:\n\u001b[1;32m    <a href='vscode-notebook-cell://eandablo-octreader-buih60wkkqd.ws-eu108.gitpod.io/workspace/OCTreader/jupiter_notebooks/data_collection.ipynb#X34sdnNjb2RlLXJlbW90ZQ%3D%3D?line=107'>108</a>\u001b[0m         temporary_data_relocation(data_dir)\n\u001b[0;32m--> <a href='vscode-notebook-cell://eandablo-octreader-buih60wkkqd.ws-eu108.gitpod.io/workspace/OCTreader/jupiter_notebooks/data_collection.ipynb#X34sdnNjb2RlLXJlbW90ZQ%3D%3D?line=108'>109</a>\u001b[0m         image_final_move(right_split, data_dir, train_ratio, val_ratio, labels)\n\u001b[1;32m    <a href='vscode-notebook-cell://eandablo-octreader-buih60wkkqd.ws-eu108.gitpod.io/workspace/OCTreader/jupiter_notebooks/data_collection.ipynb#X34sdnNjb2RlLXJlbW90ZQ%3D%3D?line=109'>110</a>\u001b[0m \u001b[39melse\u001b[39;00m:\n\u001b[1;32m    <a href='vscode-notebook-cell://eandablo-octreader-buih60wkkqd.ws-eu108.gitpod.io/workspace/OCTreader/jupiter_notebooks/data_collection.ipynb#X34sdnNjb2RlLXJlbW90ZQ%3D%3D?line=110'>111</a>\u001b[0m     \u001b[39mprint\u001b[39m(\u001b[39m'\u001b[39m\u001b[39m====================================\u001b[39m\u001b[39m'\u001b[39m)\n",
      "\u001b[1;32m/workspace/OCTreader/jupiter_notebooks/data_collection.ipynb Cell 26\u001b[0m line \u001b[0;36m7\n\u001b[1;32m     <a href='vscode-notebook-cell://eandablo-octreader-buih60wkkqd.ws-eu108.gitpod.io/workspace/OCTreader/jupiter_notebooks/data_collection.ipynb#X34sdnNjb2RlLXJlbW90ZQ%3D%3D?line=70'>71</a>\u001b[0m     os\u001b[39m.\u001b[39mmakedirs(root_dir \u001b[39m+\u001b[39m split_dir \u001b[39m+\u001b[39m \u001b[39m'\u001b[39m\u001b[39m/\u001b[39m\u001b[39m'\u001b[39m \u001b[39m+\u001b[39m label)\n\u001b[1;32m     <a href='vscode-notebook-cell://eandablo-octreader-buih60wkkqd.ws-eu108.gitpod.io/workspace/OCTreader/jupiter_notebooks/data_collection.ipynb#X34sdnNjb2RlLXJlbW90ZQ%3D%3D?line=71'>72</a>\u001b[0m \u001b[39m# shuffling images in origin_dir for the label\u001b[39;00m\n\u001b[0;32m---> <a href='vscode-notebook-cell://eandablo-octreader-buih60wkkqd.ws-eu108.gitpod.io/workspace/OCTreader/jupiter_notebooks/data_collection.ipynb#X34sdnNjb2RlLXJlbW90ZQ%3D%3D?line=72'>73</a>\u001b[0m images \u001b[39m=\u001b[39m os\u001b[39m.\u001b[39;49mlistdir(origin_dir)\n\u001b[1;32m     <a href='vscode-notebook-cell://eandablo-octreader-buih60wkkqd.ws-eu108.gitpod.io/workspace/OCTreader/jupiter_notebooks/data_collection.ipynb#X34sdnNjb2RlLXJlbW90ZQ%3D%3D?line=73'>74</a>\u001b[0m random\u001b[39m.\u001b[39mshuffle(images)\n\u001b[1;32m     <a href='vscode-notebook-cell://eandablo-octreader-buih60wkkqd.ws-eu108.gitpod.io/workspace/OCTreader/jupiter_notebooks/data_collection.ipynb#X34sdnNjb2RlLXJlbW90ZQ%3D%3D?line=74'>75</a>\u001b[0m n_image \u001b[39m=\u001b[39m \u001b[39m0\u001b[39m\n",
      "\u001b[0;31mFileNotFoundError\u001b[0m: [Errno 2] No such file or directory: 'inputs/OCTdata/temp/CNV'"
     ]
    }
   ],
   "source": [
    "import shutil\n",
    "import random\n",
    "\n",
    "\n",
    "def check_split_ratios(df, train_ratio, val_ratio, test_ratio):\n",
    "    '''\n",
    "    Function checks if ratios in data satisfy the requirements\n",
    "    and returns a boolean\n",
    "    '''\n",
    "\n",
    "    # defining split tolerance\n",
    "    tolerance = 0.02\n",
    "    \n",
    "    train_true = df.loc['train', 'ratios']\n",
    "    val_true = df.loc['val', 'ratios']\n",
    "\n",
    "    train_accept = (train_true < train_ratio + tolerance) and (train_true > train_ratio - tolerance)\n",
    "    val_accept = (val_true < val_ratio + tolerance) and (val_true > val_ratio - tolerance)\n",
    "\n",
    "    return train_accept and val_accept\n",
    "\n",
    "\n",
    "def temporary_data_relocation(data_dir):\n",
    "    '''\n",
    "    Copies images from train, val and test folders to a new folder,\n",
    "    reshuffles images and finally carries a split with the right ratios\n",
    "    '''\n",
    "    labels = os.listdir(data_dir + 'test')\n",
    "    print(labels)\n",
    "    split_dirs = ['train', 'val', 'test']\n",
    "    # Create temporary folders to host images\n",
    "    os.makedirs(data_dir + 'temp')\n",
    "    for label in labels:\n",
    "        destination_dir = data_dir + 'temp/' + label\n",
    "        os.makedirs(destination_dir)   \n",
    "    # move images to temporary location folders\n",
    "    for split_dir in split_dirs:\n",
    "        for label in labels:\n",
    "            origin_dir = data_dir + split_dir + '/' + label\n",
    "            destination_dir = data_dir + 'temp/' + label\n",
    "            list_images = os.listdir(origin_dir)\n",
    "            for image in list_images:\n",
    "                shutil.move(origin_dir +'/' + image,\n",
    "                            destination_dir + '/' + image)\n",
    "        # Empty folders are removed\n",
    "        shutil.rmtree(data_dir + split_dir)\n",
    "\n",
    "\n",
    "def image_final_move(right_split, data_dir, t_ratio, v_ratio, labels):\n",
    "    '''\n",
    "    Move images either from temporary location\n",
    "    or original folders to new location\n",
    "    '''\n",
    "    root_dir = 'inputs/OCTdata/'\n",
    "    split_dirs = ['train', 'val', 'test']\n",
    "    # if the original split on folders is correct folders are just relocated\n",
    "    if right_split:\n",
    "        for split_dir in split_dirs:\n",
    "            shutil.move(data_dir + split_dir,\n",
    "                        root_dir + split_dir)\n",
    "    # otherwise files from temporary folder must be split in to different split_dirs\n",
    "    else:\n",
    "        # create train, val and test folder in root directory\n",
    "        for split_dir in split_dirs:\n",
    "            os.makedirs(root_dir + split_dir)\n",
    " \n",
    "        for label in labels:\n",
    "            origin_dir = data_dir + 'temp/' + label\n",
    "            # create label folder in all split folders\n",
    "            for split_dir in split_dirs:\n",
    "                os.makedirs(root_dir + split_dir + '/' + label)\n",
    "            # shuffling images in origin_dir for the label\n",
    "            images = os.listdir(origin_dir)\n",
    "            random.shuffle(images)\n",
    "            n_image = 0\n",
    "            for image in images:\n",
    "                # images moved to train folder in label\n",
    "                if n_image < len(images) * t_ratio:\n",
    "                    shutil.move(data_dir + 'temp/' + label + '/' + image,\n",
    "                                root_dir + 'train/' + label + '/' + image)\n",
    "                # images moved to val folder in label\n",
    "                elif n_image < len(images) * (t_ratio + v_ratio):\n",
    "                    shutil.move(data_dir + 'temp/' + label + '/' + image,\n",
    "                                root_dir + 'val/' + label + '/' + image)\n",
    "                # images moved to train folder in label\n",
    "                else:\n",
    "                    shutil.move(data_dir + 'temp/' + label + '/' + image,\n",
    "                                root_dir + 'test/' + label + '/' + image)\n",
    "                n_image += 1\n",
    "        # temp folder removed\n",
    "        shutil.rmtree(data_dir + 'temp')\n",
    "\n",
    "\n",
    "def split_data(train_ratio, val_ratio, test_ratio):\n",
    "    '''\n",
    "    The function creates verifies data is correctly split into train, test and val\n",
    "    folders, if they are not, it reorganinses in the correct split\n",
    "    '''\n",
    "    data_dir = 'inputs/OCTdata/OCT2017/'\n",
    "    labels = os.listdir(data_dir + 'test')\n",
    "    df = explore_directories(data_dir)\n",
    "    ratios_sum = train_ratio + val_ratio + test_ratio\n",
    "    if ratios_sum == 1.0:\n",
    "        right_split = check_split_ratios(df, train_ratio, val_ratio, test_ratio)\n",
    "        if right_split:\n",
    "            image_final_move(right_split, data_dir, train_ratio, val_ratio, labels)\n",
    "        else:\n",
    "            temporary_data_relocation(data_dir)\n",
    "            image_final_move(right_split, data_dir, train_ratio, val_ratio, labels)\n",
    "    else:\n",
    "        print('====================================')\n",
    "        print('====================================')\n",
    "        print('The sum of ratios must be equal to 1')\n",
    "        print('please recall the function with the right ratios')\n",
    "    # shutil.rmtree('inputs/OCTdata/OCT2017')\n",
    "\n",
    "\n",
    "split_data(train_ratio=0.7, val_ratio=0.1, test_ratio=0.2)\n",
    "\n"
   ]
  },
  {
   "cell_type": "code",
   "execution_count": null,
   "metadata": {},
   "outputs": [],
   "source": []
  }
 ],
 "metadata": {
  "kernelspec": {
   "display_name": "Python 3",
   "language": "python",
   "name": "python3"
  },
  "language_info": {
   "codemirror_mode": {
    "name": "ipython",
    "version": 3
   },
   "file_extension": ".py",
   "mimetype": "text/x-python",
   "name": "python",
   "nbconvert_exporter": "python",
   "pygments_lexer": "ipython3",
   "version": "3.8.12"
  }
 },
 "nbformat": 4,
 "nbformat_minor": 2
}
